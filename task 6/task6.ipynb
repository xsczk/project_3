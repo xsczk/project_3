{
 "cells": [
  {
   "cell_type": "markdown",
   "metadata": {},
   "source": [
    "# Task 6"
   ]
  },
  {
   "cell_type": "code",
   "execution_count": 1,
   "metadata": {},
   "outputs": [],
   "source": [
    "import numpy as np\n",
    "import cv2 as cv\n",
    "from __future__ import print_function\n",
    "import argparse\n"
   ]
  },
  {
   "cell_type": "code",
   "execution_count": 24,
   "metadata": {},
   "outputs": [],
   "source": [
    "cap = cv.VideoCapture('11.mp4')\n",
    "fgbg = cv.createBackgroundSubtractorKNN()\n",
    "\n",
    "while(1):\n",
    "    ret, frame = cap.read()\n",
    "    if frame is None:\n",
    "        break\n",
    "\n",
    "    fgmask = fgbg.apply(frame)\n",
    "\n",
    "    # get the frame number and write it on the current frame\n",
    "    cv.rectangle(frame, (10, 2), (100, 20), (255, 255, 255), -1)\n",
    "    cv.putText(frame, str(cap.get(cv.CAP_PROP_POS_FRAMES)), (15, 15),\n",
    "               cv.FONT_HERSHEY_SIMPLEX, 0.5, (0, 0, 0))\n",
    "\n",
    "    # Loại bỏ nhiễu\n",
    "    kernel = np.ones((5, 5), np.uint8) \n",
    "    fgmask = cv.erode(fgmask, kernel, iterations=1)\n",
    "    fgmask = cv.dilate(fgmask, kernel, iterations=12)\n",
    "    fgmask = cv.GaussianBlur(fgmask, (3, 3), 0)\n",
    "    fgmask = cv.morphologyEx(fgmask, cv.MORPH_CLOSE, kernel)\n",
    "    # _ là ret (ignoring value)\n",
    "    _, fgmask = cv.threshold(fgmask, 130, 255, cv.THRESH_BINARY)\n",
    "\n",
    "    fgmask = cv.Canny(fgmask, 20, 200)\n",
    "    contours, _ = cv.findContours(\n",
    "        fgmask, cv.RETR_TREE, cv.CHAIN_APPROX_SIMPLE)  # _ là hierarchy\n",
    "    for i in range(len(contours)):\n",
    "        (x, y, w, h) = cv.boundingRect(contours[i])\n",
    "        if cv.contourArea(contours[i]) > 2000:\n",
    "            cv.drawContours(fgmask, contours[i], 0, (0, 0, 255), 8)\n",
    "            cv.rectangle(frame, (x, y), (x+w, y+h), (0, 255, 0), 4)\n",
    "    \n",
    "    cv.imshow('fgmask', fgmask)\n",
    "    cv.imshow('frame', frame)\n",
    "\n",
    "    k = cv.waitKey(25) & 0xff\n",
    "    if k == 27 or k == 'q':\n",
    "        break\n",
    "\n",
    "\n",
    "cap.release()\n",
    "cv.destroyAllWindows()\n"
   ]
  },
  {
   "cell_type": "code",
   "execution_count": null,
   "metadata": {},
   "outputs": [],
   "source": []
  }
 ],
 "metadata": {
  "interpreter": {
   "hash": "e6f92bdfa2c683cbe6235326d77b35d54560fd3b15ff6aa3f5e98ca6b861fc22"
  },
  "kernelspec": {
   "display_name": "Python 3.10.0 64-bit",
   "language": "python",
   "name": "python3"
  },
  "language_info": {
   "codemirror_mode": {
    "name": "ipython",
    "version": 3
   },
   "file_extension": ".py",
   "mimetype": "text/x-python",
   "name": "python",
   "nbconvert_exporter": "python",
   "pygments_lexer": "ipython3",
   "version": "3.10.2"
  },
  "orig_nbformat": 4
 },
 "nbformat": 4,
 "nbformat_minor": 2
}
